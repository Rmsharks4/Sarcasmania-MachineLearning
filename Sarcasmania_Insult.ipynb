{
 "cells": [
  {
   "cell_type": "code",
   "execution_count": 5,
   "metadata": {},
   "outputs": [],
   "source": [
    "from __future__ import print_function\n",
    "import pickle\n",
    "import numpy as np\n",
    "import h5py\n",
    "from keras.preprocessing.text import Tokenizer\n",
    "from keras.preprocessing.sequence import pad_sequences\n",
    "from keras.layers import Dense, Dropout, Input, GlobalMaxPooling1D, Conv1D, Embedding, MaxPooling1D\n",
    "from keras.models import Model\n",
    "from keras.models import load_model\n",
    "from keras.initializers import Constant\n",
    "import gensim.downloader as api\n",
    "import pandas as pd\n",
    "import matplotlib.pyplot as plt\n",
    "from sklearn.metrics import roc_auc_score\n",
    "from keras import backend as K"
   ]
  },
  {
   "cell_type": "code",
   "execution_count": 6,
   "metadata": {
    "collapsed": true
   },
   "outputs": [],
   "source": [
    "NEW_DATA_DIR = \"sarcasmania-insult.csv\"\n",
    "MAX_SEQUENCE_LENGTH = 100\n",
    "MAX_NUM_WORDS = 20000\n",
    "EMBEDDING_DIM = 300\n",
    "VALIDATION_SPLIT = 0.2"
   ]
  },
  {
   "cell_type": "code",
   "execution_count": 7,
   "metadata": {
    "collapsed": true
   },
   "outputs": [],
   "source": [
    "model = load_model('my_model.h5')"
   ]
  },
  {
   "cell_type": "code",
   "execution_count": 8,
   "metadata": {},
   "outputs": [
    {
     "name": "stdout",
     "output_type": "stream",
     "text": [
      "Loading Toxic Comments data.\n"
     ]
    }
   ],
   "source": [
    "print('Loading Toxic Comments data.')\n",
    "with open(NEW_DATA_DIR) as f:\n",
    "    toxic_comments = pd.read_csv(NEW_DATA_DIR)"
   ]
  },
  {
   "cell_type": "code",
   "execution_count": 9,
   "metadata": {},
   "outputs": [
    {
     "name": "stdout",
     "output_type": "stream",
     "text": [
      "Getting Comment Labels.\n"
     ]
    }
   ],
   "source": [
    "print('Getting Comment Labels.')\n",
    "prediction_labels = [\"toxic\", \"severe_toxic\", \"obscene\", \"threat\", \"insult\", \"identity_hate\"]\n",
    "labels = toxic_comments[prediction_labels].values"
   ]
  },
  {
   "cell_type": "code",
   "execution_count": 10,
   "metadata": {},
   "outputs": [
    {
     "name": "stdout",
     "output_type": "stream",
     "text": [
      "Processing text dataset\n"
     ]
    }
   ],
   "source": [
    "print('Processing text dataset')\n",
    "tokenizer = Tokenizer(num_words=MAX_NUM_WORDS)\n",
    "tokenizer.fit_on_texts(toxic_comments['comment_text'].fillna(\"DUMMY_VALUE\").values)\n",
    "sequences = tokenizer.texts_to_sequences(toxic_comments['comment_text'].fillna(\"DUMMY_VALUE\").values)\n",
    "word_index = tokenizer.word_index"
   ]
  },
  {
   "cell_type": "code",
   "execution_count": 11,
   "metadata": {},
   "outputs": [
    {
     "name": "stdout",
     "output_type": "stream",
     "text": [
      "Found 1427 sequences.\n"
     ]
    }
   ],
   "source": [
    "print('Found %s sequences.' % len(sequences))\n",
    "data = pad_sequences(sequences, maxlen=MAX_SEQUENCE_LENGTH)"
   ]
  },
  {
   "cell_type": "code",
   "execution_count": 12,
   "metadata": {
    "collapsed": true
   },
   "outputs": [],
   "source": [
    "nb_validation_samples = int(VALIDATION_SPLIT * data.shape[0])\n",
    "x_train = data[:-nb_validation_samples]\n",
    "y_train = labels[:-nb_validation_samples]\n",
    "x_val = data[-nb_validation_samples:]\n",
    "y_val = labels[-nb_validation_samples:]"
   ]
  },
  {
   "cell_type": "code",
   "execution_count": 13,
   "metadata": {},
   "outputs": [
    {
     "name": "stdout",
     "output_type": "stream",
     "text": [
      "Train on 1142 samples, validate on 285 samples\n",
      "Epoch 1/2\n",
      "1142/1142 [==============================] - 3s 3ms/step - loss: 0.1050 - acc: 0.9657 - val_loss: 0.1292 - val_acc: 0.9386\n",
      "Epoch 2/2\n",
      "1142/1142 [==============================] - 2s 2ms/step - loss: 0.0676 - acc: 0.9759 - val_loss: 0.2018 - val_acc: 0.9409\n"
     ]
    }
   ],
   "source": [
    "history = model.fit(x_train, y_train, epochs=2, batch_size=512, validation_data=(x_val, y_val))\n",
    "model.save('feed_model.h5')"
   ]
  },
  {
   "cell_type": "code",
   "execution_count": 14,
   "metadata": {},
   "outputs": [
    {
     "name": "stdout",
     "output_type": "stream",
     "text": [
      "Model Accuracy:  0.9759193941715929\n"
     ]
    }
   ],
   "source": [
    "print(\"Model Accuracy: \",history.history['acc'][-1])"
   ]
  },
  {
   "cell_type": "code",
   "execution_count": 15,
   "metadata": {},
   "outputs": [
    {
     "data": {
      "image/png": "[encoded data removed]",
      "text/plain": [
       "<Figure size 432x288 with 1 Axes>"
      ]
     },
     "metadata": {},
     "output_type": "display_data"
    }
   ],
   "source": [
    "plt.plot(history.history['acc'], label='acc')\n",
    "plt.legend()\n",
    "plt.show()"
   ]
  },
  {
   "cell_type": "code",
   "execution_count": 20,
   "metadata": {
    "collapsed": true
   },
   "outputs": [],
   "source": [
    "def create_prediction(model, sequence, tokenizer, max_length, prediction_labels):\n",
    "    sequence = tokenizer.texts_to_sequences(sequence)\n",
    "    sequence = pad_sequences(sequence, maxlen=max_length)\n",
    "    sequence_prediction = model.predict(sequence, verbose=1)\n",
    "    sequence_prediction = pd.DataFrame(sequence_prediction).round(3)\n",
    "    sequence_prediction.columns = prediction_labels\n",
    "    return sequence_prediction"
   ]
  },
  {
   "cell_type": "code",
   "execution_count": 21,
   "metadata": {},
   "outputs": [
    {
     "name": "stdout",
     "output_type": "stream",
     "text": [
      "Please input a sentence: Shutup you stupid fucking bitch!\n",
      "1/1 [==============================] - 0s 2ms/step\n",
      "   toxic  severe_toxic  obscene  threat  insult  identity_hate\n",
      "0  0.153         0.001    0.019   0.002   0.019          0.004\n"
     ]
    }
   ],
   "source": [
    "sequence = [input(\"Please input a sentence: \")]\n",
    "prediction = create_prediction(model, sequence, tokenizer, MAX_SEQUENCE_LENGTH, prediction_labels)\n",
    "print(prediction)"
   ]
  },
  {
   "cell_type": "code",
   "execution_count": null,
   "metadata": {
    "collapsed": true
   },
   "outputs": [],
   "source": []
  }
 ],
 "metadata": {
  "kernelspec": {
   "display_name": "Python 3",
   "language": "python",
   "name": "python3"
  },
  "language_info": {
   "codemirror_mode": {
    "name": "ipython",
    "version": 3
   },
   "file_extension": ".py",
   "mimetype": "text/x-python",
   "name": "python",
   "nbconvert_exporter": "python",
   "pygments_lexer": "ipython3",
   "version": "3.6.2"
  }
 },
 "nbformat": 4,
 "nbformat_minor": 2
}
